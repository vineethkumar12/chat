{
 "cells": [
  {
   "cell_type": "code",
   "execution_count": null,
   "id": "84e420ea",
   "metadata": {},
   "outputs": [],
   "source": [
    "\n"
   ]
  },
  {
   "cell_type": "code",
   "execution_count": null,
   "id": "553ed9c2",
   "metadata": {},
   "outputs": [],
   "source": []
  }
 ],
 "metadata": {
  "kernelspec": {
   "display_name": ".venv",
   "language": "python",
   "name": "python3"
  },
  "language_info": {
   "name": "python",
   "version": "3.10.8"
  },
  "vscode": {
   "interpreter": {
    "hash": "08b2b9c2108732b43e19b7c3800da029638ec51a3cc0567c25d35d9de5669724"
   }
  }
 },
 "nbformat": 4,
 "nbformat_minor": 5
}
