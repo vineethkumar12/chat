{
 "cells": [
  {
   "cell_type": "code",
   "execution_count": null,
   "id": "84e420ea",
   "metadata": {},
   "outputs": [],
   "source": [
    "import matlatlib\n"
   ]
  },
  {
   "cell_type": "code",
   "execution_count": null,
   "id": "553ed9c2",
   "metadata": {},
   "outputs": [],
   "source": []
  }
 ],
 "metadata": {
  "kernelspec": {
   "display_name": ".venv",
   "language": "python",
   "name": "python3"
  },
  "language_info": {
   "name": "python",
   "version": "3.10.8"
  },
  "vscode": {
   "interpreter": {
    "hash": "e5bead4c41469fa63f450b34eda981852f92a8d4080d29d329aa8f8b9a07ad34"
   }
  }
 },
 "nbformat": 4,
 "nbformat_minor": 5
}
